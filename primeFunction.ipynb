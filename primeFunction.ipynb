{
 "cells": [
  {
   "cell_type": "code",
   "execution_count": 1,
   "id": "7010dad4-094b-4837-beab-9efae393ce10",
   "metadata": {},
   "outputs": [
    {
     "name": "stdout",
     "output_type": "stream",
     "text": [
      "37 is a prime number\n"
     ]
    }
   ],
   "source": [
    "def primeNumbers(n):\n",
    "    if n> 1:\n",
    "        for i in range(2, int(n/2)+1):\n",
    "            if (n % i) == 0:\n",
    "                print(n, \"is not a prime number\")\n",
    "                break\n",
    "        else:\n",
    "            print(n, \"is a prime number\")\n",
    "    else:\n",
    "        print(n, \"is not a prime number\")\n",
    "            \n",
    "primeNumbers(37)   "
   ]
  },
  {
   "cell_type": "code",
   "execution_count": null,
   "id": "2d2f5673-dcfa-4848-a545-fa6bf4049fec",
   "metadata": {},
   "outputs": [],
   "source": []
  }
 ],
 "metadata": {
  "kernelspec": {
   "display_name": "Python 3 (ipykernel)",
   "language": "python",
   "name": "python3"
  },
  "language_info": {
   "codemirror_mode": {
    "name": "ipython",
    "version": 3
   },
   "file_extension": ".py",
   "mimetype": "text/x-python",
   "name": "python",
   "nbconvert_exporter": "python",
   "pygments_lexer": "ipython3",
   "version": "3.9.13"
  }
 },
 "nbformat": 4,
 "nbformat_minor": 5
}
